{
 "cells": [
  {
   "cell_type": "code",
   "execution_count": 1,
   "metadata": {},
   "outputs": [],
   "source": [
    "from nltk import *"
   ]
  },
  {
   "cell_type": "code",
   "execution_count": 2,
   "metadata": {},
   "outputs": [],
   "source": [
    "from nltk.corpus import *"
   ]
  },
  {
   "cell_type": "code",
   "execution_count": 3,
   "metadata": {},
   "outputs": [],
   "source": [
    "import nltk"
   ]
  },
  {
   "cell_type": "code",
   "execution_count": 4,
   "metadata": {},
   "outputs": [],
   "source": [
    "def language_ratio(input):\n",
    "    lang_ratio={}\n",
    "    tokens=wordpunct_tokenize(input)\n",
    "    words=[word.lower()for word in tokens]\n",
    "    for language in stopwords.fileids():\n",
    "        stopwords_set=set(stopwords.words(language))\n",
    "        words_set=set(words)\n",
    "        common_elements=words_set.intersection(stopwords_set)\n",
    "        lang_ratio[language]=len(common_elements)\n",
    "    return lang_ratio"
   ]
  },
  {
   "cell_type": "code",
   "execution_count": 5,
   "metadata": {},
   "outputs": [],
   "source": [
    "def detect_lang(input):\n",
    "    ratios=language_ratio(input)\n",
    "    language=max(ratios,key=ratios.get)\n",
    "    return language"
   ]
  },
  {
   "cell_type": "code",
   "execution_count": 62,
   "metadata": {},
   "outputs": [
    {
     "data": {
      "text/plain": [
       "['arabic',\n",
       " 'azerbaijani',\n",
       " 'danish',\n",
       " 'dutch',\n",
       " 'english',\n",
       " 'finnish',\n",
       " 'french',\n",
       " 'german',\n",
       " 'greek',\n",
       " 'hungarian',\n",
       " 'indonesian',\n",
       " 'italian',\n",
       " 'kazakh',\n",
       " 'nepali',\n",
       " 'norwegian',\n",
       " 'portuguese',\n",
       " 'romanian',\n",
       " 'russian',\n",
       " 'spanish',\n",
       " 'swedish',\n",
       " 'turkish']"
      ]
     },
     "execution_count": 62,
     "metadata": {},
     "output_type": "execute_result"
    }
   ],
   "source": [
    "\n",
    "stopwords.fileids()"
   ]
  },
  {
   "cell_type": "code",
   "execution_count": 7,
   "metadata": {},
   "outputs": [
    {
     "name": "stdout",
     "output_type": "stream",
     "text": [
      "[nltk_data] Downloading package stopwords to\n",
      "[nltk_data]     C:\\Users\\KARAN\\AppData\\Roaming\\nltk_data...\n",
      "[nltk_data]   Package stopwords is already up-to-date!\n"
     ]
    },
    {
     "data": {
      "text/plain": [
       "True"
      ]
     },
     "execution_count": 7,
     "metadata": {},
     "output_type": "execute_result"
    }
   ],
   "source": [
    "nltk.download('stopwords')"
   ]
  },
  {
   "cell_type": "code",
   "execution_count": 85,
   "metadata": {},
   "outputs": [],
   "source": [
    "l={ 0 : \"english\",\n",
    "    1 : \"french\",\n",
    "    2 : \"Chinese Mandarin\",\n",
    "    3 : \"russian\",\n",
    "    4 : \"Polish\",\n",
    "    5 : \"portuguese\",\n",
    "    6 : \"Japanese\",\n",
    "    7 : \"italian\",\n",
    "    8 : \"Hebrew\",\n",
    "    9 : \"dutch\",\n",
    "    10: \"azerbaijani\",\n",
    "    11:\"danish\",\n",
    "    12:\"finnish\",\n",
    "   13:'greek',\n",
    "   14:'hungarian',\n",
    "   15:'indonesian',\n",
    "   16:'kazakh',\n",
    "   17:'nepali',\n",
    "   18:'norwegian',\n",
    "   19:'romanian',\n",
    "   20:'spanish',\n",
    " 21:'swedish',\n",
    " 22:'turkish',\n",
    "   23:'arabic'\n",
    "  }"
   ]
  },
  {
   "cell_type": "code",
   "execution_count": 65,
   "metadata": {},
   "outputs": [
    {
     "name": "stdout",
     "output_type": "stream",
     "text": [
      "549\n"
     ]
    }
   ],
   "source": [
    "messages = [line.rstrip() for line in open('test_set.txt',encoding=\"utf8\")]\n",
    "print(len(messages))"
   ]
  },
  {
   "cell_type": "code",
   "execution_count": 66,
   "metadata": {},
   "outputs": [
    {
     "name": "stdout",
     "output_type": "stream",
     "text": [
      "0 ﻿C'est sa faute.\t1\n",
      "\n",
      "\n",
      "1 我不太確定我們是否能夠滿足你的要求。\t2\n",
      "\n",
      "\n",
      "2 Я спал на улице.\t3\n",
      "\n",
      "\n",
      "3 Tom zaczął krzyczeć o pomoc.\t4\n",
      "\n",
      "\n",
      "4 Onde você estará?\t5\n",
      "\n",
      "\n",
      "5 トムはいつもお金に困っている。\t6\n",
      "\n",
      "\n",
      "6 Semplificatela.\t7\n",
      "\n",
      "\n",
      "7 תביאו אתכם ארוחת צהרים בשקית.\t8\n",
      "\n",
      "\n",
      "8 Ich möchte, dass du dableibst.\t9\n",
      "\n",
      "\n",
      "9 This is his house.\t0\n",
      "\n",
      "\n"
     ]
    }
   ],
   "source": [
    "for message_no, message in enumerate(messages[:10]):\n",
    "    print(message_no, message)\n",
    "    print('\\n')\n"
   ]
  },
  {
   "cell_type": "code",
   "execution_count": 67,
   "metadata": {},
   "outputs": [],
   "source": [
    "import pandas as pd"
   ]
  },
  {
   "cell_type": "code",
   "execution_count": 143,
   "metadata": {},
   "outputs": [
    {
     "data": {
      "text/html": [
       "<div>\n",
       "<style scoped>\n",
       "    .dataframe tbody tr th:only-of-type {\n",
       "        vertical-align: middle;\n",
       "    }\n",
       "\n",
       "    .dataframe tbody tr th {\n",
       "        vertical-align: top;\n",
       "    }\n",
       "\n",
       "    .dataframe thead th {\n",
       "        text-align: right;\n",
       "    }\n",
       "</style>\n",
       "<table border=\"1\" class=\"dataframe\">\n",
       "  <thead>\n",
       "    <tr style=\"text-align: right;\">\n",
       "      <th></th>\n",
       "      <th>Message</th>\n",
       "      <th>Label</th>\n",
       "    </tr>\n",
       "  </thead>\n",
       "  <tbody>\n",
       "    <tr>\n",
       "      <th>0</th>\n",
       "      <td>C'est sa faute.</td>\n",
       "      <td>1</td>\n",
       "    </tr>\n",
       "    <tr>\n",
       "      <th>1</th>\n",
       "      <td>我不太確定我們是否能夠滿足你的要求。</td>\n",
       "      <td>2</td>\n",
       "    </tr>\n",
       "    <tr>\n",
       "      <th>2</th>\n",
       "      <td>Я спал на улице.</td>\n",
       "      <td>3</td>\n",
       "    </tr>\n",
       "    <tr>\n",
       "      <th>3</th>\n",
       "      <td>Tom zaczął krzyczeć o pomoc.</td>\n",
       "      <td>4</td>\n",
       "    </tr>\n",
       "    <tr>\n",
       "      <th>4</th>\n",
       "      <td>Onde você estará?</td>\n",
       "      <td>5</td>\n",
       "    </tr>\n",
       "  </tbody>\n",
       "</table>\n",
       "</div>"
      ],
      "text/plain": [
       "                        Message  Label\n",
       "0               C'est sa faute.      1\n",
       "1            我不太確定我們是否能夠滿足你的要求。      2\n",
       "2              Я спал на улице.      3\n",
       "3  Tom zaczął krzyczeć o pomoc.      4\n",
       "4             Onde você estará?      5"
      ]
     },
     "execution_count": 143,
     "metadata": {},
     "output_type": "execute_result"
    }
   ],
   "source": [
    "messages = pd.read_csv('test_set.txt', sep='\\t',\n",
    "                           names=[\"Message\", \"Label\"])\n",
    "messages.head()\n"
   ]
  },
  {
   "cell_type": "code",
   "execution_count": 144,
   "metadata": {},
   "outputs": [
    {
     "name": "stdout",
     "output_type": "stream",
     "text": [
      "<class 'pandas.core.frame.DataFrame'>\n",
      "Int64Index: 329 entries, 1 to 9\n",
      "Data columns (total 1 columns):\n",
      "Message    329 non-null object\n",
      "dtypes: object(1)\n",
      "memory usage: 5.1+ KB\n"
     ]
    }
   ],
   "source": [
    "messages=messages.set_index(\"Label\")\n",
    "messages=messages.drop([\"2\",\"8\",\"4\",\"6\"],axis=0)\n",
    "messages.info()"
   ]
  },
  {
   "cell_type": "code",
   "execution_count": 145,
   "metadata": {},
   "outputs": [
    {
     "data": {
      "text/html": [
       "<div>\n",
       "<style scoped>\n",
       "    .dataframe tbody tr th:only-of-type {\n",
       "        vertical-align: middle;\n",
       "    }\n",
       "\n",
       "    .dataframe tbody tr th {\n",
       "        vertical-align: top;\n",
       "    }\n",
       "\n",
       "    .dataframe thead th {\n",
       "        text-align: right;\n",
       "    }\n",
       "</style>\n",
       "<table border=\"1\" class=\"dataframe\">\n",
       "  <thead>\n",
       "    <tr style=\"text-align: right;\">\n",
       "      <th></th>\n",
       "      <th>Message</th>\n",
       "    </tr>\n",
       "    <tr>\n",
       "      <th>Label</th>\n",
       "      <th></th>\n",
       "    </tr>\n",
       "  </thead>\n",
       "  <tbody>\n",
       "    <tr>\n",
       "      <th>1</th>\n",
       "      <td>C'est sa faute.</td>\n",
       "    </tr>\n",
       "    <tr>\n",
       "      <th>3</th>\n",
       "      <td>Я спал на улице.</td>\n",
       "    </tr>\n",
       "    <tr>\n",
       "      <th>5</th>\n",
       "      <td>Onde você estará?</td>\n",
       "    </tr>\n",
       "    <tr>\n",
       "      <th>7</th>\n",
       "      <td>Semplificatela.</td>\n",
       "    </tr>\n",
       "    <tr>\n",
       "      <th>9</th>\n",
       "      <td>Ich möchte, dass du dableibst.</td>\n",
       "    </tr>\n",
       "  </tbody>\n",
       "</table>\n",
       "</div>"
      ],
      "text/plain": [
       "                              Message\n",
       "Label                                \n",
       "1                     C'est sa faute.\n",
       "3                    Я спал на улице.\n",
       "5                   Onde você estará?\n",
       "7                     Semplificatela.\n",
       "9      Ich möchte, dass du dableibst."
      ]
     },
     "execution_count": 145,
     "metadata": {},
     "output_type": "execute_result"
    }
   ],
   "source": [
    "messages.head()"
   ]
  },
  {
   "cell_type": "code",
   "execution_count": 133,
   "metadata": {},
   "outputs": [
    {
     "data": {
      "text/plain": [
       "'german'"
      ]
     },
     "execution_count": 133,
     "metadata": {},
     "output_type": "execute_result"
    }
   ],
   "source": [
    "language=detect_lang(messages['Message'].iloc[4])\n",
    "language\n"
   ]
  },
  {
   "cell_type": "code",
   "execution_count": 135,
   "metadata": {},
   "outputs": [
    {
     "name": "stdout",
     "output_type": "stream",
     "text": [
      "[1, 3, 5, 23, 25, 0, 1, 3, 5, 7, 25, 0, 1, 16, 1, 1, 25, 0, 1, 16, 5, 7, 25, 0, 1, 16, 5, 7, 25, 0, 1, 3, 5, 7, 25, 0, 1, 3, 20, 7, 25, 0, 1, 3, 20, 7, 25, 0, 1, 3, 5, 23, 25, 0, 1, 16, 5, 7, 25, 0, 1, 16, 5, 7, 25, 0, 9, 16, 5, 7, 25, 0, 1, 16, 5, 7, 25, 0, 1, 3, 10, 7, 25, 0, 1, 16, 5, 10, 25, 0, 1, 3, 5, 7, 25, 0, 1, 16, 10, 10, 25, 0, 1, 16, 5, 7, 25, 0, 1, 3, 10, 10, 25, 0, 1, 3, 5, 7, 25, 0, 1, 3, 5, 7, 25, 0, 1, 3, 5, 15, 25, 0, 1, 16, 5, 15, 25, 0, 1, 16, 5, 23, 25, 0, 1, 16, 5, 23, 25, 0, 1, 16, 5, 23, 25, 0, 1, 16, 5, 5, 25, 0, 1, 16, 5, 7, 25, 0, 1, 16, 5, 7, 25, 0, 1, 16, 5, 23, 25, 0, 1, 3, 5, 23, 25, 0, 1, 3, 5, 23, 25, 0, 1, 3, 5, 23, 25, 0, 1, 3, 5, 1, 25, 0, 10, 3, 5, 23, 25, 0, 1, 16, 5, 7, 25, 0, 1, 16, 5, 10, 25, 0, 1, 16, 5, 7, 25, 0, 1, 16, 5, 7, 25, 0, 1, 3, 5, 7, 25, 0, 1, 16, 5, 7, 25, 0, 1, 3, 5, 7, 25, 0, 1, 16, 5, 7, 25, 0, 1, 16, 5, 7, 25, 0, 1, 16, 5, 7, 25, 0, 1, 16, 5, 7, 9, 0, 1, 16, 5, 7, 25, 0, 1, 16, 5, 7, 25, 0, 1, 16, 5, 7, 25, 0, 1, 16, 5, 7, 25, 0, 1, 3, 5, 7, 25, 0, 1, 16, 5, 7, 25, 0, 1, 23, 5, 7, 25, 0, 1, 23, 5, 14, 25, 0, 1, 16, 5, 7, 25]\n"
     ]
    }
   ],
   "source": [
    "result=[]\n",
    "y=[]\n",
    "flag=0\n",
    "for i in messages['Message']:\n",
    "    language=(detect_lang(i))\n",
    "    flag=0\n",
    "    for j in range(24):\n",
    "        if l[j]==language:\n",
    "            result.append(j)\n",
    "            flag=1\n",
    "    if(flag==0):\n",
    "        result.append(25)\n",
    "\n",
    "print(result)\n",
    "   \n",
    "    \n"
   ]
  },
  {
   "cell_type": "code",
   "execution_count": 136,
   "metadata": {},
   "outputs": [
    {
     "name": "stdout",
     "output_type": "stream",
     "text": [
      "<class 'pandas.core.frame.DataFrame'>\n",
      "RangeIndex: 549 entries, 0 to 548\n",
      "Data columns (total 2 columns):\n",
      "Message    549 non-null object\n",
      "Label      549 non-null int64\n",
      "dtypes: int64(1), object(1)\n",
      "memory usage: 8.7+ KB\n"
     ]
    }
   ],
   "source": [
    "messages = pd.read_csv('test_set.txt', sep='\\t',\n",
    "                           names=[\"Message\", \"Label\"])\n",
    "messages.head()\n",
    "messages.info()"
   ]
  },
  {
   "cell_type": "code",
   "execution_count": 137,
   "metadata": {},
   "outputs": [
    {
     "name": "stdout",
     "output_type": "stream",
     "text": [
      "[1, 3, 5, 7, 9, 0, 1, 3, 5, 7, 9, 0, 1, 3, 5, 7, 9, 0, 1, 3, 5, 7, 9, 0, 1, 3, 5, 7, 9, 0, 1, 3, 5, 7, 9, 0, 1, 3, 5, 7, 9, 0, 1, 3, 5, 7, 9, 0, 1, 3, 5, 7, 9, 0, 1, 3, 5, 7, 9, 0, 1, 3, 5, 7, 9, 0, 1, 3, 5, 7, 9, 0, 1, 3, 5, 7, 9, 0, 1, 3, 5, 7, 9, 0, 1, 3, 5, 7, 9, 0, 1, 3, 5, 7, 9, 0, 1, 3, 5, 7, 9, 0, 1, 3, 5, 7, 9, 0, 1, 3, 5, 7, 9, 0, 1, 3, 5, 7, 9, 0, 1, 3, 5, 7, 9, 0, 1, 3, 5, 7, 9, 0, 1, 3, 5, 7, 9, 0, 1, 3, 5, 7, 9, 0, 1, 3, 5, 7, 9, 0, 1, 3, 5, 7, 9, 0, 1, 3, 5, 7, 9, 0, 1, 3, 5, 7, 9, 0, 1, 3, 5, 7, 9, 0, 1, 3, 5, 7, 9, 0, 1, 3, 5, 7, 9, 0, 1, 3, 5, 7, 9, 0, 1, 3, 5, 7, 9, 0, 1, 3, 5, 7, 9, 0, 1, 3, 5, 7, 9, 0, 1, 3, 5, 7, 9, 0, 1, 3, 5, 7, 9, 0, 1, 3, 5, 7, 9, 0, 1, 3, 5, 7, 9, 0, 1, 3, 5, 7, 9, 0, 1, 3, 5, 7, 9, 0, 1, 3, 5, 7, 9, 0, 1, 3, 5, 7, 9, 0, 1, 3, 5, 7, 9, 0, 1, 3, 5, 7, 9, 0, 1, 3, 5, 7, 9, 0, 1, 3, 5, 7, 9, 0, 1, 3, 5, 7, 9, 0, 1, 3, 5, 7, 9, 0, 1, 3, 5, 7, 9, 0, 1, 3, 5, 7, 9, 0, 1, 3, 5, 7, 9, 0, 1, 3, 5, 7, 9, 0, 1, 3, 5, 7, 9, 0, 1, 3, 5, 7, 9]\n"
     ]
    }
   ],
   "source": [
    "p=[]\n",
    "for j in messages['Label']:\n",
    "    if (j==2) or (j==4) or (j==6) or (j==8):\n",
    "        y.append(j)\n",
    "    else:\n",
    "        p.append(j)\n",
    "\n",
    "print(p)\n",
    "\n",
    "\n"
   ]
  },
  {
   "cell_type": "code",
   "execution_count": 138,
   "metadata": {},
   "outputs": [
    {
     "data": {
      "text/plain": [
       "329"
      ]
     },
     "execution_count": 138,
     "metadata": {},
     "output_type": "execute_result"
    }
   ],
   "source": [
    "len(p)\n"
   ]
  },
  {
   "cell_type": "code",
   "execution_count": 139,
   "metadata": {},
   "outputs": [
    {
     "data": {
      "text/plain": [
       "329"
      ]
     },
     "execution_count": 139,
     "metadata": {},
     "output_type": "execute_result"
    }
   ],
   "source": [
    "len(result)"
   ]
  },
  {
   "cell_type": "code",
   "execution_count": 140,
   "metadata": {},
   "outputs": [],
   "source": [
    "from sklearn import metrics"
   ]
  },
  {
   "cell_type": "code",
   "execution_count": 141,
   "metadata": {},
   "outputs": [],
   "source": [
    "from sklearn.metrics import accuracy_score"
   ]
  },
  {
   "cell_type": "code",
   "execution_count": 142,
   "metadata": {},
   "outputs": [
    {
     "data": {
      "text/plain": [
       "0.6443768996960486"
      ]
     },
     "execution_count": 142,
     "metadata": {},
     "output_type": "execute_result"
    }
   ],
   "source": [
    "accuracy_score(p,result)"
   ]
  },
  {
   "cell_type": "code",
   "execution_count": null,
   "metadata": {},
   "outputs": [],
   "source": []
  }
 ],
 "metadata": {
  "kernelspec": {
   "display_name": "Python 3",
   "language": "python",
   "name": "python3"
  },
  "language_info": {
   "codemirror_mode": {
    "name": "ipython",
    "version": 3
   },
   "file_extension": ".py",
   "mimetype": "text/x-python",
   "name": "python",
   "nbconvert_exporter": "python",
   "pygments_lexer": "ipython3",
   "version": "3.6.5"
  }
 },
 "nbformat": 4,
 "nbformat_minor": 2
}
